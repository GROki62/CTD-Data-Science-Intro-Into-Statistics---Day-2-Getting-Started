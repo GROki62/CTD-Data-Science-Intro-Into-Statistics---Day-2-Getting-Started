{
 "cells": [
  {
   "cell_type": "code",
   "execution_count": 3,
   "id": "15cb3e7e",
   "metadata": {},
   "outputs": [
    {
     "name": "stdout",
     "output_type": "stream",
     "text": [
      "in a brighter room at sunrise with you\n"
     ]
    }
   ],
   "source": [
    "def indulging(location, time, desire):\n",
    "    print('in a ' + location + ' at ' + time + ' with ' + desire)\n",
    "    \n",
    "indulging('brighter room', 'sunrise', 'you')"
   ]
  },
  {
   "cell_type": "code",
   "execution_count": null,
   "id": "544054a0",
   "metadata": {},
   "outputs": [],
   "source": [
    "def equation(a, b, c):\n",
    "    return a/b*c\n",
    "\n",
    "equation (70, 10, 2)"
   ]
  },
  {
   "cell_type": "code",
   "execution_count": null,
   "id": "9a59e57c",
   "metadata": {},
   "outputs": [],
   "source": []
  }
 ],
 "metadata": {
  "kernelspec": {
   "display_name": "Python 3 (ipykernel)",
   "language": "python",
   "name": "python3"
  },
  "language_info": {
   "codemirror_mode": {
    "name": "ipython",
    "version": 3
   },
   "file_extension": ".py",
   "mimetype": "text/x-python",
   "name": "python",
   "nbconvert_exporter": "python",
   "pygments_lexer": "ipython3",
   "version": "3.9.12"
  }
 },
 "nbformat": 4,
 "nbformat_minor": 5
}
